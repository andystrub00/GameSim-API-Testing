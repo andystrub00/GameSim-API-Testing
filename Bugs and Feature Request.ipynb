{
 "cells": [
  {
   "cell_type": "code",
   "execution_count": 1,
   "metadata": {},
   "outputs": [],
   "source": [
    "# Standard library imports\n",
    "import os\n",
    "\n",
    "# Third-party library imports\n",
    "import requests\n",
    "from dotenv import load_dotenv\n",
    "\n",
    "# Load environment variables from .env file\n",
    "load_dotenv()\n",
    "\n",
    "# Access the GameSim API key\n",
    "# .env file format:\n",
    "# GAMESIM_API_KEY=\"<api key>\"\n",
    "api_key = os.getenv('GAMESIM_API_KEY')\n",
    "\n",
    "base_gamesim_url = 'https://api.ncaagamesim.com'\n",
    "\n",
    "# Usage is explained in \"Potential Bugs/Feature Requests\" Number 1.\n",
    "postman_user_agent = 'PostmanRuntime/7.33.0'"
   ]
  },
  {
   "cell_type": "markdown",
   "metadata": {},
   "source": [
    "# Questions"
   ]
  },
  {
   "cell_type": "markdown",
   "metadata": {},
   "source": [
    "### 1. ncaaScheduleId/nflScheduleId\n",
    "\n",
    "The request data for a simulation post is as follows:\n",
    "\n",
    "```\n",
    "request_data = {\n",
    "    \"hometeam\": \"homeTeam\",\n",
    "    \"homeyear\": \"homeYear\",\n",
    "    \"awayteam\": \"awayTeam\",\n",
    "    \"awayyear\": \"awayYear\",\n",
    "    \"includeStats\": True,\n",
    "    \"ncaaScheduleId\": 0,\n",
    "    \"nflScheduleId\": 0,\n",
    "    \"numberOfSimulations\": 0\n",
    "}\n",
    "```\n",
    "\n",
    "Curious what 'ncaaScheduleId'/'nflScheduleId' represent or control? With some basic testing I was able to pass various integers into those fields and couldn't see any difference in the returned data."
   ]
  },
  {
   "cell_type": "markdown",
   "metadata": {},
   "source": [
    "# Feature Requests"
   ]
  },
  {
   "cell_type": "markdown",
   "metadata": {},
   "source": [
    "### 1. API Usage Endpoint/Field\n",
    "\n",
    "Currently there doesn't appear to be a way to see how many calls you have made to the API in the given billing timeframe. This would be very helpful, weather it's apart of each response (prefered in my opinion) or a seperate endput."
   ]
  },
  {
   "cell_type": "markdown",
   "metadata": {},
   "source": [
    "### 2. Home Field Advantage and Show Play-by-Play fields\n",
    "\n",
    "Would love to have access to these options from the API.\n",
    "```\n",
    "request_data = {\n",
    "    \"hometeam\": \"Illinois\",\n",
    "    \"homeyear\": \"2024\",\n",
    "    \"awayteam\": \"Iowa\",\n",
    "    \"awayyear\": \"2024\",\n",
    "    \"includeStats\": True,\n",
    "    \"ncaaScheduleId\": 0,\n",
    "    \"nflScheduleId\": 0,\n",
    "    \"numberOfSimulations\": 0,\n",
    "    \"homeFieldAdvantage\": 1,\n",
    "    \"showPlayByPlay\": 1\n",
    "}\n",
    "\n",
    "sport = 'cfb'\n",
    "\n",
    "simulate_response = requests.post(base_gamesim_url + f'/gamesim/simulate/{sport}', headers=headers, json=request_data)\n",
    "```"
   ]
  },
  {
   "cell_type": "markdown",
   "metadata": {},
   "source": [
    "### 3. Predictions without time or by week\n",
    "\n",
    "Would love to be able to get all predictions for a given league without passing a time, e.g all NFL predictions on 10/17/2023 OR even better all predictions for a given league (probably just football) by week, e.g all CFB predictions for Week 7. Full week could be done fairly easily if we could call predictions with only a date by paging through that week, but with times it makes it difficult unless that data also became avalible through the API.\n",
    "\n",
    "\n",
    "Date Only:\n",
    "```\n",
    "sport = 'cfb'\n",
    "date = '2023-10-17'\n",
    "\n",
    "prediction_response = requests.get(base_gamesim_url + f'/gamesim/predictions/{sport}/{date}', headers=headers)\n",
    "```\n",
    "\n",
    "\n",
    "Week Only:\n",
    "```\n",
    "# Example for Week Only\n",
    "sport = 'cfb'\n",
    "week = '7'\n",
    "\n",
    "prediction_response = requests.get(base_gamesim_url + f'/gamesim/predictions/{sport}/{week}', headers=headers)\n",
    "```"
   ]
  },
  {
   "cell_type": "markdown",
   "metadata": {},
   "source": [
    "# Potential Bugs"
   ]
  },
  {
   "cell_type": "markdown",
   "metadata": {},
   "source": [
    "### 1. Only certain User-Agents have Access Permisions"
   ]
  },
  {
   "cell_type": "markdown",
   "metadata": {},
   "source": [
    "### Without Set User-Agent:"
   ]
  },
  {
   "cell_type": "code",
   "execution_count": 2,
   "metadata": {},
   "outputs": [
    {
     "name": "stdout",
     "output_type": "stream",
     "text": [
      "403 ModSecurity Action\n"
     ]
    }
   ],
   "source": [
    "headers = {\n",
    "    'Authorization': api_key\n",
    "}\n",
    "\n",
    "response = requests.get('https://api.ncaagamesim.com/gamesim/ping', headers=headers)\n",
    "print(response.status_code, response.reason)"
   ]
  },
  {
   "cell_type": "markdown",
   "metadata": {},
   "source": [
    "We can use [hhtpbin](https://httpbin.org/) to easily see the auto-generated headers of our request."
   ]
  },
  {
   "cell_type": "code",
   "execution_count": 3,
   "metadata": {},
   "outputs": [
    {
     "name": "stdout",
     "output_type": "stream",
     "text": [
      "Auto-Generated User-Agent: python-requests/2.28.1\n"
     ]
    }
   ],
   "source": [
    "request_with_all_headers = requests.get('http://httpbin.org/headers') # Note no headers are included in this request.\n",
    "print(f\"Auto-Generated User-Agent: {request_with_all_headers.json()['headers']['User-Agent']}\")"
   ]
  },
  {
   "cell_type": "markdown",
   "metadata": {},
   "source": [
    "Python automatically assigned the User-Agent to \"python-requests/2.28.1\", which was denied access.\n",
    "\n",
    "Since we know this request has worked in Postman before, let's try setting 'User-Agent' to the Postman value.\n",
    "\n",
    "### With Set User-Agent:"
   ]
  },
  {
   "cell_type": "code",
   "execution_count": 4,
   "metadata": {},
   "outputs": [
    {
     "name": "stdout",
     "output_type": "stream",
     "text": [
      "200 OK\n"
     ]
    }
   ],
   "source": [
    "headers = {\n",
    "    'Authorization': api_key,\n",
    "    'User-Agent': 'PostmanRuntime/7.33.0'\n",
    "}\n",
    "\n",
    "response = requests.get('https://api.ncaagamesim.com/gamesim/ping', headers=headers)\n",
    "print(response.status_code, response.reason)"
   ]
  },
  {
   "cell_type": "markdown",
   "metadata": {},
   "source": [
    "Assume this is intended on some level, would be curious if possible to expand the User-Agents with permissions, especially because it is easy to spoof the User-Agent. Not a huge deal at all. \n",
    "\n",
    "\n",
    "Tested with the following User-Agents as well:\n",
    "\n",
    "|          User-Agent      |      Response Status       |\n",
    "| :-----------------------:| :------------------------: |\n",
    "|  PostmanRuntime/7.33.0   |    200 OK                  |\n",
    "|  Boomi Http Transport*   |    200 OK                  |  \n",
    "|  python-requests/2.28.1  |    403 ModSecurity Action  |\n",
    "|  python-requests/2.30.0  |    403 ModSecurity Action  |\n",
    "\n",
    "*User-Agent auto-generated by Boomi"
   ]
  }
 ],
 "metadata": {
  "kernelspec": {
   "display_name": "smallprojectsenv",
   "language": "python",
   "name": "python3"
  },
  "language_info": {
   "codemirror_mode": {
    "name": "ipython",
    "version": 3
   },
   "file_extension": ".py",
   "mimetype": "text/x-python",
   "name": "python",
   "nbconvert_exporter": "python",
   "pygments_lexer": "ipython3",
   "version": "3.9.16"
  }
 },
 "nbformat": 4,
 "nbformat_minor": 2
}
