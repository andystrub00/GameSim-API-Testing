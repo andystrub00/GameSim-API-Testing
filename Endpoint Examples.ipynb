{
 "cells": [
  {
   "cell_type": "code",
   "execution_count": 1,
   "metadata": {},
   "outputs": [],
   "source": [
    "# Standard library imports\n",
    "import os\n",
    "\n",
    "# Third-party library imports\n",
    "import requests\n",
    "from dotenv import load_dotenv\n",
    "\n",
    "# Load environment variables from .env file\n",
    "load_dotenv()\n",
    "\n",
    "# Access the GameSim API key\n",
    "# .env file format:\n",
    "# GAMESIM_API_KEY=\"<api key>\"\n",
    "api_key = os.getenv('GAMESIM_API_KEY')\n",
    "\n",
    "base_gamesim_url = 'https://api.ncaagamesim.com'\n",
    "\n",
    "# Usage is explained in \"Potential Bugs/Feature Requests\" Number 1.\n",
    "postman_user_agent = 'PostmanRuntime/7.33.0'"
   ]
  },
  {
   "cell_type": "markdown",
   "metadata": {},
   "source": [
    "# Endpoint Examples"
   ]
  },
  {
   "cell_type": "markdown",
   "metadata": {},
   "source": [
    "### Ping"
   ]
  },
  {
   "cell_type": "code",
   "execution_count": 2,
   "metadata": {},
   "outputs": [
    {
     "name": "stdout",
     "output_type": "stream",
     "text": [
      "200 OK\n",
      "Success\n"
     ]
    }
   ],
   "source": [
    "headers = {\n",
    "    'Authorization': api_key,\n",
    "    'User-Agent': postman_user_agent\n",
    "}\n",
    "\n",
    "ping_response = requests.get(base_gamesim_url + '/gamesim/ping', headers=headers)\n",
    "print(ping_response.status_code, ping_response.reason)\n",
    "print(ping_response.text)"
   ]
  },
  {
   "cell_type": "markdown",
   "metadata": {},
   "source": [
    "### Sports"
   ]
  },
  {
   "cell_type": "code",
   "execution_count": 3,
   "metadata": {},
   "outputs": [
    {
     "name": "stdout",
     "output_type": "stream",
     "text": [
      "200 OK\n",
      "['nfl', 'cfb']\n"
     ]
    }
   ],
   "source": [
    "headers = {\n",
    "    'Authorization': api_key,\n",
    "    'User-Agent': postman_user_agent\n",
    "}\n",
    "\n",
    "sports_response = requests.get(base_gamesim_url + '/gamesim/sports', headers=headers)\n",
    "print(sports_response.status_code, sports_response.reason)\n",
    "print(sports_response.json())"
   ]
  },
  {
   "cell_type": "markdown",
   "metadata": {},
   "source": [
    "### Teams"
   ]
  },
  {
   "cell_type": "code",
   "execution_count": 4,
   "metadata": {},
   "outputs": [
    {
     "name": "stdout",
     "output_type": "stream",
     "text": [
      "200 OK\n",
      "[{\"Name\":\"Arizona Cardinals\",\"Code\":\"nflCardinals\"},{\"Name\":\"Atlanta Falcons\",\"Code\":\"nflFalcons\"},{\"Name\":\"Baltimore Ravens\",\"Code\":\"nflRavens\"},{\"Name\":\"Buffalo Bills\",\"Code\":\"nflBills\"},{\"Name\":\"Carolina Panthers\",\"Code\":\"nflPanthers\"},{\"Name\":\"Chicago Bears\",\"Code\":\"nflBears\"},{\"Name\":\"Cincinnati Bengals\",\"Code\":\"nflBengals\"},{\"Name\":\"Cleveland Browns\",\"Code\":\"nflBrowns\"},{\"Name\":\"Dallas Cowboys\",\"Code\":\"nflCowboys\"},{\"Name\":\"Denver Broncos\",\"Code\":\"nflBroncos\"},{\"Name\":\"Detroit Lions\",\"Code\":\"nflLions\"},{\"Name\":\"Green Bay Packers\",\"Code\":\"nflPackers\"},{\"Name\":\"Houston Texans\",\"Code\":\"nflTexans\"},{\"Name\":\"Indianapolis Colts\",\"Code\":\"nflColts\"},{\"Name\":\"Jacksonville Jaguars\",\"Code\":\"nflJaguars\"},{\"Name\":\"Kansas City Chiefs\",\"Code\":\"nflChiefs\"},{\"Name\":\"Las Vegas Raiders\",\"Code\":\"nflRaiders\"},{\"Name\":\"Los Angeles Chargers\",\"Code\":\"nflChargers\"},{\"Name\":\"Los Angeles Rams\",\"Code\":\"nflRams\"},{\"Name\":\"Miami Dolphins\",\"Code\":\"nflDolphins\"},{\"Name\":\"Minnesota Vikings\",\"Code\":\"nflVikings\"},{\"Name\":\"New England Patriots\",\"Code\":\"nflPatriots\"},{\"Name\":\"New Orleans Saints\",\"Code\":\"nflSaints\"},{\"Name\":\"New York Giants\",\"Code\":\"nflGiants\"},{\"Name\":\"New York Jets\",\"Code\":\"nflJets\"},{\"Name\":\"Philadelphia Eagles\",\"Code\":\"nflEagles\"},{\"Name\":\"Pittsburgh Steelers\",\"Code\":\"nflSteelers\"},{\"Name\":\"San Francisco 49ers\",\"Code\":\"nfl49ers\"},{\"Name\":\"Seattle Seahawks\",\"Code\":\"nflSeahawks\"},{\"Name\":\"Tampa Bay Buccaneers\",\"Code\":\"nflBuccaneers\"},{\"Name\":\"Tennessee Titans\",\"Code\":\"nflTitans\"},{\"Name\":\"Washington Commanders\",\"Code\":\"nflRedskins\"}]\n"
     ]
    }
   ],
   "source": [
    "headers = {\n",
    "    'Authorization': api_key,\n",
    "    'User-Agent': postman_user_agent\n",
    "}\n",
    "\n",
    "sport = sports_response.json()[0]\n",
    "teams_response = requests.get(base_gamesim_url + f'/gamesim/teams/{sport}', headers=headers)\n",
    "print(teams_response.status_code, teams_response.reason)\n",
    "print(teams_response.text)"
   ]
  },
  {
   "cell_type": "markdown",
   "metadata": {},
   "source": [
    "### Seasons"
   ]
  },
  {
   "cell_type": "code",
   "execution_count": 5,
   "metadata": {},
   "outputs": [
    {
     "name": "stdout",
     "output_type": "stream",
     "text": [
      "200 OK\n",
      "[{\"BeginYear\":2012,\"EndYear\":2024}]\n"
     ]
    }
   ],
   "source": [
    "headers = {\n",
    "    'Authorization': api_key,\n",
    "    'User-Agent': postman_user_agent\n",
    "}\n",
    "\n",
    "team, sport = \"Illinois\", \"cfb\"\n",
    "\n",
    "seasons_response = requests.get(base_gamesim_url + f'/gamesim/seasons/{team}/{sport}', headers=headers)\n",
    "print(seasons_response.status_code, seasons_response.reason)\n",
    "print(seasons_response.text)"
   ]
  },
  {
   "cell_type": "markdown",
   "metadata": {},
   "source": [
    "### Simulate"
   ]
  },
  {
   "cell_type": "code",
   "execution_count": 6,
   "metadata": {},
   "outputs": [
    {
     "name": "stdout",
     "output_type": "stream",
     "text": [
      "200 OK\n",
      "{\"simulation\":{\"hometeam\":\"Illinois\", \"homename\":\"\", \"homeyear\":2024, \"awayteam\":\"Iowa\", \"awayname\":\"\", \"awayyear\":2024, \"homescore\":13, \"awayscore\":20}, \"simulation_history\":{\"totalsimulations\":115, \"averagehomescore\":21.7, \"averageawayscore\":12.4, \"overtime\":3, \"otpct\":2.6, \"homewincount\":85, \"homewinpct\":73.9, \"awaywincount\":30, \"awaywinpct\":26.1, \"homeblowoutcount\":30, \"homeblowoutpct\":26.1, \"awayblowoutcount\":8, \"awayblowoutpct\":7.0, \"closegamecount\":22, \"closegamepct\":19.1}, \"player_stats\":{\"home\":{\"passing\":[{\"name\":\"Luke Altmyer\", \"completions\":28, \"attempts\":44, \"yards\":253, \"touchdowns\":1, \"interceptions\":0, \"long\":28, \"yardsperattempt\":5.75, \"completionpct\":0.6363636363636}], \"rushing\":[{\"name\":\"Aidan Laughery\", \"attempts\":4, \"yards\":14, \"touchdowns\":0, \"long\":9, \"yardsperattempt\":3.5}, {\"name\":\"Joshua McCray\", \"attempts\":7, \"yards\":20, \"touchdowns\":0, \"long\":8, \"yardsperattempt\":2.8571428571428}, {\"name\":\"Luke Altmyer\", \"attempts\":14, \"yards\":29, \"touchdowns\":0, \"long\":9, \"yardsperattempt\":2.0714285714285}], \"receiving\":[{\"name\":\"Casey Washington\", \"receptions\":4, \"yards\":34, \"touchdowns\":0, \"long\":17, \"yardspercatch\":8.5}, {\"name\":\"Griffin Moore\", \"receptions\":2, \"yards\":42, \"touchdowns\":0, \"long\":28, \"yardspercatch\":21}, {\"name\":\"Hank Beatty\", \"receptions\":2, \"yards\":12, \"touchdowns\":0, \"long\":6, \"yardspercatch\":6}, {\"name\":\"Henry Boyer\", \"receptions\":1, \"yards\":5, \"touchdowns\":0, \"long\":5, \"yardspercatch\":5}, {\"name\":\"Isaiah Williams\", \"receptions\":13, \"yards\":91, \"touchdowns\":0, \"long\":19, \"yardspercatch\":7}, {\"name\":\"Patrick Bryant\", \"receptions\":4, \"yards\":56, \"touchdowns\":1, \"long\":16, \"yardspercatch\":14}, {\"name\":\"Tip Reiman\", \"receptions\":2, \"yards\":13, \"touchdowns\":0, \"long\":9, \"yardspercatch\":6.5}], \"kicking\":[{\"name\":\"Caleb Griffin\", \"attempts\":2, \"made\":2, \"percentage\":100, \"long\":31, \"pat\":1}], \"punting\":[{\"name\":\" Team\", \"attempts\":2, \"yards\":14, \"average\":7, \"inside20\":0, \"long\":8}, {\"name\":\"Hugh Robertson\", \"attempts\":6, \"yards\":259, \"average\":43.1666666666666, \"inside20\":1, \"long\":47}]}, \"away\":{\"passing\":[{\"name\":\"Deacon Hill\", \"completions\":14, \"attempts\":28, \"yards\":158, \"touchdowns\":2, \"interceptions\":0, \"long\":32, \"yardsperattempt\":5.6428571428571, \"completionpct\":0.5}], \"rushing\":[{\"name\":\"Deacon Hill\", \"attempts\":1, \"yards\":-2, \"touchdowns\":0, \"long\":0, \"yardsperattempt\":-2}, {\"name\":\"Jaziun Patterson\", \"attempts\":5, \"yards\":6, \"touchdowns\":0, \"long\":3, \"yardsperattempt\":1.2}, {\"name\":\"Kaden Wetjen\", \"attempts\":1, \"yards\":5, \"touchdowns\":0, \"long\":5, \"yardsperattempt\":5}, {\"name\":\"Kaleb Brown\", \"attempts\":1, \"yards\":3, \"touchdowns\":0, \"long\":3, \"yardsperattempt\":3}, {\"name\":\"Kaleb Johnson\", \"attempts\":12, \"yards\":41, \"touchdowns\":0, \"long\":7, \"yardsperattempt\":3.4166666666666}, {\"name\":\"Kamari Moulton\", \"attempts\":5, \"yards\":19, \"touchdowns\":0, \"long\":6, \"yardsperattempt\":3.8}, {\"name\":\"Leshon Williams\", \"attempts\":8, \"yards\":40, \"touchdowns\":0, \"long\":12, \"yardsperattempt\":5}, {\"name\":\"Max White\", \"attempts\":1, \"yards\":1, \"touchdowns\":0, \"long\":1, \"yardsperattempt\":1}], \"receiving\":[{\"name\":\"Diante Vines\", \"receptions\":4, \"yards\":40, \"touchdowns\":0, \"long\":17, \"yardspercatch\":10}, {\"name\":\"Leshon Williams\", \"receptions\":5, \"yards\":34, \"touchdowns\":2, \"long\":17, \"yardspercatch\":6.8}, {\"name\":\"Nico Ragaini\", \"receptions\":2, \"yards\":17, \"touchdowns\":0, \"long\":11, \"yardspercatch\":8.5}, {\"name\":\"Seth Anderson\", \"receptions\":2, \"yards\":35, \"touchdowns\":0, \"long\":27, \"yardspercatch\":17.5}, {\"name\":\"Steven Stilianos\", \"receptions\":1, \"yards\":32, \"touchdowns\":0, \"long\":32, \"yardspercatch\":32}], \"kicking\":[{\"name\":\"Drew Stevens\", \"attempts\":3, \"made\":2, \"percentage\":66.66666666666, \"long\":32, \"pat\":2}], \"punting\":[{\"name\":\"Tory Taylor\", \"attempts\":7, \"yards\":342, \"average\":48.8571428571428, \"inside20\":0, \"long\":53}]}}}\n"
     ]
    }
   ],
   "source": [
    "headers = {\n",
    "    'Authorization': api_key,\n",
    "    'User-Agent': postman_user_agent\n",
    "}\n",
    "\n",
    "request_data = {\n",
    "    \"hometeam\": \"Illinois\",\n",
    "    \"homeyear\": \"2024\",\n",
    "    \"awayteam\": \"Iowa\",\n",
    "    \"awayyear\": \"2024\",\n",
    "    \"includeStats\": True,\n",
    "    \"ncaaScheduleId\": 0,\n",
    "    \"nflScheduleId\": 0,\n",
    "    \"numberOfSimulations\": 0\n",
    "\n",
    "}\n",
    "\n",
    "sport = 'cfb'\n",
    "\n",
    "simulate_response = requests.post(base_gamesim_url + f'/gamesim/simulate/{sport}', headers=headers, json=request_data)\n",
    "print(simulate_response.status_code, simulate_response.reason)\n",
    "print(simulate_response.text)"
   ]
  },
  {
   "cell_type": "markdown",
   "metadata": {},
   "source": [
    "### Predictions"
   ]
  },
  {
   "cell_type": "code",
   "execution_count": 7,
   "metadata": {},
   "outputs": [
    {
     "name": "stdout",
     "output_type": "stream",
     "text": [
      "200 OK\n",
      "[{\"GameDate\":\"2023-10-19T20:15:00\",\"AwayName\":\"Jacksonville Jaguars\",\"HomeName\":\"New Orleans Saints\",\"AwayFinalScore\":null,\"HomeFinalScore\":null,\"AwayPredictedScore\":11.10000000000000,\"HomePredictedScore\":20.85000000000000,\"SimulationCount\":80,\"GameStatus\":\"Incomplete\",\"GameWeek\":7}]\n"
     ]
    }
   ],
   "source": [
    "headers = {\n",
    "    'Authorization': api_key,\n",
    "    'User-Agent': postman_user_agent\n",
    "}\n",
    "\n",
    "sport, dtgame = 'nfl', \"2023-10-19%2008%3A15%3A00\"\n",
    "\n",
    "prediction_response = requests.get(base_gamesim_url + f'/gamesim/predictions/{sport}/{dtgame}', headers=headers)\n",
    "print(prediction_response.status_code, prediction_response.reason)\n",
    "print(prediction_response.text)"
   ]
  }
 ],
 "metadata": {
  "kernelspec": {
   "display_name": "smallprojectsenv",
   "language": "python",
   "name": "python3"
  },
  "language_info": {
   "codemirror_mode": {
    "name": "ipython",
    "version": 3
   },
   "file_extension": ".py",
   "mimetype": "text/x-python",
   "name": "python",
   "nbconvert_exporter": "python",
   "pygments_lexer": "ipython3",
   "version": "3.9.16"
  }
 },
 "nbformat": 4,
 "nbformat_minor": 2
}
