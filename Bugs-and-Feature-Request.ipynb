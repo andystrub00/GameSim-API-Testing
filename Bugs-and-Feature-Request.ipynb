{
 "cells": [
  {
   "cell_type": "markdown",
   "metadata": {},
   "source": [
    "# Table of Contents\n",
    "* [Feature Requests](#feature-requests)\n",
    "* [Questions](#questions)\n",
    "* [Bugs](#bugs)"
   ]
  },
  {
   "cell_type": "code",
   "execution_count": 1,
   "metadata": {},
   "outputs": [],
   "source": [
    "# Standard library imports\n",
    "import os\n",
    "\n",
    "# Third-party library imports\n",
    "import requests\n",
    "from dotenv import load_dotenv\n",
    "\n",
    "# Load environment variables from .env file\n",
    "load_dotenv()\n",
    "\n",
    "# Access the GameSim API key\n",
    "# .env file format:\n",
    "# GAMESIM_API_KEY=\"<api key>\"\n",
    "api_key = os.getenv('GAMESIM_API_KEY')\n",
    "\n",
    "base_gamesim_url = 'https://api.ncaagamesim.com'\n",
    "\n",
    "# Usage is explained in \"Potential Bugs/Feature Requests\" Number 1.\n",
    "postman_user_agent = 'PostmanRuntime/7.33.0'\n",
    "\n",
    "# Set default headers for requests.\n",
    "headers = {\n",
    "    'Authorization': api_key,\n",
    "    'User-Agent': postman_user_agent\n",
    "}"
   ]
  },
  {
   "cell_type": "markdown",
   "metadata": {},
   "source": [
    "# Questions <a class=\"anchor\" id=\"questions\"></a>"
   ]
  },
  {
   "cell_type": "markdown",
   "metadata": {},
   "source": [
    "### 1. ncaaScheduleId/nflScheduleId\n",
    "\n",
    "The request data for a simulation post is as follows:\n",
    "\n",
    "<br/>\n",
    "\n",
    "```python\n",
    "request_data = {\n",
    "    \"hometeam\": \"homeTeam\",\n",
    "    \"homeyear\": \"homeYear\",\n",
    "    \"awayteam\": \"awayTeam\",\n",
    "    \"awayyear\": \"awayYear\",\n",
    "    \"includeStats\": True,\n",
    "    \"ncaaScheduleId\": 0,\n",
    "    \"nflScheduleId\": 0,\n",
    "    \"numberOfSimulations\": 0\n",
    "}\n",
    "```\n",
    "<br/>\n",
    "Curious what 'ncaaScheduleId'/'nflScheduleId' represent or control? With some basic testing I was able to pass various integers into those fields and couldn't see any difference in the returned data."
   ]
  },
  {
   "cell_type": "markdown",
   "metadata": {},
   "source": [
    "<br/>"
   ]
  },
  {
   "cell_type": "markdown",
   "metadata": {},
   "source": [
    "# Feature Requests <a class=\"anchor\" id=\"feature-requests\"></a>"
   ]
  },
  {
   "cell_type": "markdown",
   "metadata": {},
   "source": [
    "### 1. API Usage Endpoint/Field\n",
    "\n",
    "Currently there doesn't appear to be a way to see how many calls you have made to the API in the given billing timeframe. This would be very helpful, weather it's apart of each response (prefered in my opinion) or a seperate endput.\n",
    "\n",
    "For example, my personal preference would be that a Simulate call would return a structure somewhat similar to this. Could be even more basic, really only need callsMade OR callsRemaining. Preferably (again, in my opinion) callsRemainig, especially if you plan to have different tiers of API subscriptions where some have a higher number of alloted calls.\n",
    "\n",
    "<br/>\n",
    "\n",
    "\n",
    "```json\n",
    "{\n",
    "  \"rateLimit\": [\n",
    "    {\n",
    "      \"callsMade\": 324,\n",
    "      \"callsRemaining\": 176,\n",
    "      \"daysRemainingCurrentCycle\": 11\n",
    "    }\n",
    "  ],\n",
    "  \"data\": [\n",
    "    {\n",
    "      \"hometeam\": \"Illinois\",\n",
    "      \"homename\": \"\",\n",
    "      \"homeyear\": 2024,\n",
    "      \"awayteam\": \"Wisconsin\",\n",
    "      \"awayname\": \"\",\n",
    "      \"awayyear\": 2024,\n",
    "      \"homescore\": 17,\n",
    "      \"awayscore\": 13\n",
    "    }\n",
    "  ]\n",
    "}\n",
    "```"
   ]
  },
  {
   "cell_type": "markdown",
   "metadata": {},
   "source": [
    "<br/>"
   ]
  },
  {
   "cell_type": "markdown",
   "metadata": {},
   "source": [
    "### 2. Home Field Advantage and Show Play-by-Play fields\n",
    "\n",
    "Would love to have access to these options from the API.\n",
    "<br/>\n",
    "```python\n",
    "request_data = {\n",
    "    \"hometeam\": \"Illinois\",\n",
    "    \"homeyear\": \"2024\",\n",
    "    \"awayteam\": \"Iowa\",\n",
    "    \"awayyear\": \"2024\",\n",
    "    \"includeStats\": True,\n",
    "    \"ncaaScheduleId\": 0,\n",
    "    \"nflScheduleId\": 0,\n",
    "    \"numberOfSimulations\": 0,\n",
    "    \"homeFieldAdvantage\": 1,\n",
    "    \"showPlayByPlay\": 1\n",
    "}\n",
    "\n",
    "sport = 'cfb'\n",
    "\n",
    "simulate_response = requests.post(base_gamesim_url + f'/gamesim/simulate/cfb', headers=headers, json=request_data)\n",
    "```"
   ]
  },
  {
   "cell_type": "markdown",
   "metadata": {},
   "source": [
    "<br/>"
   ]
  },
  {
   "cell_type": "markdown",
   "metadata": {},
   "source": [
    "### 3. Predictions Endpoint {dtgame} parameter clarification"
   ]
  },
  {
   "cell_type": "markdown",
   "metadata": {},
   "source": [
    "Took me a bit of time to figure out the required datetime format - although I should have gotten there sooner it might be nice to have that format explicitly shown in the documentation as opposed to just \"string($date-time). Not a biggie at all.\n",
    "\n",
    "Regardless of that point, one of my feature requests was going to be the ability to get all predictions for a league based on only the date, and not the time. It appears at least today (10/20) that is actually the case, and the time portion of the dtgame parameter does not matter. Personally hope that this is intended, as otherwise gametimes would be needed to get any predicitons. Wouldn't be impossible, but at least for me would be less \"natural\". This way for any given week/period of time I can make one call per day and not have to loop through times. "
   ]
  },
  {
   "cell_type": "code",
   "execution_count": 2,
   "metadata": {},
   "outputs": [
    {
     "name": "stdout",
     "output_type": "stream",
     "text": [
      "prediction responses without time: 101\n",
      "prediction responses without time: 101\n",
      "With & Without time equivalent?: True\n"
     ]
    }
   ],
   "source": [
    "sport = 'cfb'\n",
    "\n",
    "# With Time\n",
    "year, month, day = \"2023\", \"10\", \"21\"\n",
    "hour, minute, second = \"04\", \"30\", \"00\"\n",
    "dtgame = f\"{year}-{month}-{day}%20{hour}%3A{minute}%3A{second}\"\n",
    "\n",
    "prediction_response_with_time = requests.get(base_gamesim_url + f'/gamesim/predictions/{sport}/{dtgame}', headers=headers)\n",
    "print(f\"prediction responses without time: {len(prediction_response_with_time.json())}\")\n",
    "\n",
    "\n",
    "# Without Time\n",
    "hour, minute, second = \"00\", \"00\", \"00\"\n",
    "dtgame = f\"{year}-{month}-{day}%20{hour}%3A{minute}%3A{second}\"\n",
    "\n",
    "prediction_response_without_time = requests.get(base_gamesim_url + f'/gamesim/predictions/{sport}/{dtgame}', headers=headers)\n",
    "print(f\"prediction responses without time: {len(prediction_response_without_time.json())}\")\n",
    "print(f\"With & Without time equivalent?: {prediction_response_with_time.json() == prediction_response_without_time.json()}\")"
   ]
  },
  {
   "cell_type": "markdown",
   "metadata": {},
   "source": [
    "### 4. Predictions by Week\n",
    "Along those same lines, I think it would be awesome to be able to query predicitons based on week number and not date. Would only really make sense for NFL/CFB, but if it was possible to call:\n",
    "<br/>\n",
    "<br/>\n",
    "```python\n",
    "requests.get(base_gamesim_url + f'/gamesim/predictions/nfl/week7', headers=headers)\n",
    "```\n",
    "<br/>\n",
    "and get all 13 predictions that would be great. Super low priority especially if the game time doesn't matter in the query."
   ]
  },
  {
   "cell_type": "markdown",
   "metadata": {},
   "source": [
    "<br/><br/>"
   ]
  },
  {
   "cell_type": "markdown",
   "metadata": {},
   "source": [
    "# Bugs <a class=\"anchor\" id=\"bugs\"></a>"
   ]
  },
  {
   "cell_type": "markdown",
   "metadata": {},
   "source": [
    "### 1. Simulate request with \"includeStats\" set to false throws a 500 Internal Server Error."
   ]
  },
  {
   "cell_type": "code",
   "execution_count": 3,
   "metadata": {},
   "outputs": [
    {
     "name": "stdout",
     "output_type": "stream",
     "text": [
      "includeStats True: 200 OK\n",
      "includeStats False: 400 Bad Request\n"
     ]
    }
   ],
   "source": [
    "headers = {\n",
    "    'Authorization': api_key,\n",
    "    'User-Agent': postman_user_agent\n",
    "}\n",
    "\n",
    "request_data = {\n",
    "    \"hometeam\": \"Illinois\",\n",
    "    \"homeyear\": \"2024\",\n",
    "    \"awayteam\": \"Wisconsin\",\n",
    "    \"awayyear\": \"2024\",\n",
    "    \"includeStats\": True,\n",
    "    \"ncaaScheduleId\": 0,\n",
    "    \"nflScheduleId\": 0,\n",
    "    \"numberOfSimulations\": 0\n",
    "\n",
    "}\n",
    "\n",
    "sport = 'cfb'\n",
    "\n",
    "simulate_response = requests.post(base_gamesim_url + f'/gamesim/simulate/{sport}', headers=headers, json=request_data)\n",
    "print(f\"includeStats True: {simulate_response.status_code} {simulate_response.reason}\")\n",
    "\n",
    "# Set includeStats to False\n",
    "request_data['includeStats'] = \"False\"\n",
    "\n",
    "simulate_response = requests.post(base_gamesim_url + f'/gamesim/simulate/{sport}', headers=headers, json=request_data)\n",
    "print(f\"includeStats False: {simulate_response.status_code} {simulate_response.reason}\")"
   ]
  },
  {
   "cell_type": "markdown",
   "metadata": {},
   "source": [
    "<br/><br/>"
   ]
  },
  {
   "cell_type": "markdown",
   "metadata": {},
   "source": [
    "### 2. Only certain User-Agents have Access Permisions"
   ]
  },
  {
   "cell_type": "markdown",
   "metadata": {},
   "source": [
    "This isn't even necessarily a bug, just thought it was worth pointing out.\n",
    "\n",
    "\n",
    "Without Set User-Agent:"
   ]
  },
  {
   "cell_type": "code",
   "execution_count": 4,
   "metadata": {},
   "outputs": [
    {
     "name": "stdout",
     "output_type": "stream",
     "text": [
      "403 ModSecurity Action\n"
     ]
    }
   ],
   "source": [
    "headers = {\n",
    "    'Authorization': api_key\n",
    "}\n",
    "\n",
    "response = requests.get('https://api.ncaagamesim.com/gamesim/ping', headers=headers)\n",
    "print(response.status_code, response.reason)"
   ]
  },
  {
   "cell_type": "markdown",
   "metadata": {},
   "source": [
    "<br/>"
   ]
  },
  {
   "cell_type": "markdown",
   "metadata": {},
   "source": [
    "We can use [hhtpbin](https://httpbin.org/) to easily see the auto-generated headers of our request."
   ]
  },
  {
   "cell_type": "code",
   "execution_count": 5,
   "metadata": {},
   "outputs": [
    {
     "name": "stdout",
     "output_type": "stream",
     "text": [
      "Auto-Generated User-Agent: python-requests/2.28.1\n"
     ]
    }
   ],
   "source": [
    "request_with_all_headers = requests.get('http://httpbin.org/headers') # Note no headers are included in this request.\n",
    "print(f\"Auto-Generated User-Agent: {request_with_all_headers.json()['headers']['User-Agent']}\")"
   ]
  },
  {
   "cell_type": "markdown",
   "metadata": {},
   "source": [
    "<br/>"
   ]
  },
  {
   "cell_type": "markdown",
   "metadata": {},
   "source": [
    "Python automatically assigned the User-Agent to \"python-requests/2.28.1\", which was denied access. Since we know this request has worked in Postman before, let's try setting 'User-Agent' to the Postman value.\n",
    "\n",
    "### With Set User-Agent:"
   ]
  },
  {
   "cell_type": "code",
   "execution_count": 6,
   "metadata": {},
   "outputs": [
    {
     "name": "stdout",
     "output_type": "stream",
     "text": [
      "200 OK\n"
     ]
    }
   ],
   "source": [
    "headers = {\n",
    "    'Authorization': api_key,\n",
    "    'User-Agent': 'PostmanRuntime/7.33.0'\n",
    "}\n",
    "\n",
    "response = requests.get('https://api.ncaagamesim.com/gamesim/ping', headers=headers)\n",
    "print(response.status_code, response.reason)"
   ]
  },
  {
   "cell_type": "markdown",
   "metadata": {},
   "source": [
    "Assume this is intended on some level, would be curious if possible to expand the User-Agents with permissions, especially because it is easy to spoof the User-Agent. Not a huge deal at all. \n",
    "\n",
    "\n",
    "Tested with the following User-Agents as well:\n",
    "\n",
    "|          User-Agent      |      Response Status       |\n",
    "| :-----------------------:| :------------------------: |\n",
    "|  PostmanRuntime/7.33.0   |    200 OK                  |\n",
    "|  Boomi Http Transport*   |    200 OK                  |  \n",
    "|  python-requests/2.28.1  |    403 ModSecurity Action  |\n",
    "|  python-requests/2.30.0  |    403 ModSecurity Action  |\n",
    "\n",
    "*User-Agent auto-generated by Boomi"
   ]
  }
 ],
 "metadata": {
  "kernelspec": {
   "display_name": "smallprojectsenv",
   "language": "python",
   "name": "python3"
  },
  "language_info": {
   "codemirror_mode": {
    "name": "ipython",
    "version": 3
   },
   "file_extension": ".py",
   "mimetype": "text/x-python",
   "name": "python",
   "nbconvert_exporter": "python",
   "pygments_lexer": "ipython3",
   "version": "3.9.16"
  }
 },
 "nbformat": 4,
 "nbformat_minor": 2
}
