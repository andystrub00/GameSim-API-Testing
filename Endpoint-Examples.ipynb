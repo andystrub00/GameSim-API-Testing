{
 "cells": [
  {
   "cell_type": "markdown",
   "metadata": {},
   "source": [
    "# Table of Contents\n",
    "* [Ping](#ping)\n",
    "* [Sports](#sports)\n",
    "* [Teams](#teams)\n",
    "* [Seasons](#seasons)\n",
    "* [Simulate](#simulate)\n",
    "* [Predictions](#predictions)"
   ]
  },
  {
   "cell_type": "code",
   "execution_count": 1,
   "metadata": {},
   "outputs": [],
   "source": [
    "# Standard library imports\n",
    "import os\n",
    "\n",
    "# Third-party library imports\n",
    "import requests\n",
    "from dotenv import load_dotenv\n",
    "\n",
    "# Load environment variables from .env file\n",
    "load_dotenv()\n",
    "\n",
    "# Access the GameSim API key\n",
    "# .env file format:\n",
    "# GAMESIM_API_KEY=\"<api key>\"\n",
    "api_key = os.getenv('GAMESIM_API_KEY')\n",
    "\n",
    "base_gamesim_url = 'https://api.ncaagamesim.com'\n",
    "\n",
    "# Usage is explained in \"Potential Bugs/Feature Requests\" Number 1.\n",
    "postman_user_agent = 'PostmanRuntime/7.33.0'"
   ]
  },
  {
   "cell_type": "markdown",
   "metadata": {},
   "source": [
    "# Endpoint Examples"
   ]
  },
  {
   "cell_type": "markdown",
   "metadata": {},
   "source": [
    "### Ping <a class=\"anchor\" id=\"ping\"></a>"
   ]
  },
  {
   "cell_type": "code",
   "execution_count": 2,
   "metadata": {},
   "outputs": [
    {
     "name": "stdout",
     "output_type": "stream",
     "text": [
      "200 OK\n",
      "Success\n"
     ]
    }
   ],
   "source": [
    "headers = {\n",
    "    'Authorization': api_key,\n",
    "    'User-Agent': postman_user_agent\n",
    "}\n",
    "\n",
    "ping_response = requests.get(base_gamesim_url + '/gamesim/ping', headers=headers)\n",
    "print(ping_response.status_code, ping_response.reason)\n",
    "print(ping_response.text)"
   ]
  },
  {
   "cell_type": "markdown",
   "metadata": {},
   "source": [
    "### Sports <a class=\"anchor\" id=\"sports\"></a>"
   ]
  },
  {
   "cell_type": "code",
   "execution_count": 3,
   "metadata": {},
   "outputs": [
    {
     "name": "stdout",
     "output_type": "stream",
     "text": [
      "200 OK\n",
      "['nfl', 'cfb', 'cbb', 'nba']\n"
     ]
    }
   ],
   "source": [
    "headers = {\n",
    "    'Authorization': api_key,\n",
    "    'User-Agent': postman_user_agent\n",
    "}\n",
    "\n",
    "sports_response = requests.get(base_gamesim_url + '/gamesim/sports', headers=headers)\n",
    "print(sports_response.status_code, sports_response.reason)\n",
    "print(sports_response.json())"
   ]
  },
  {
   "cell_type": "markdown",
   "metadata": {},
   "source": [
    "### Teams <a class=\"anchor\" id=\"teams\"></a>"
   ]
  },
  {
   "cell_type": "code",
   "execution_count": 4,
   "metadata": {},
   "outputs": [
    {
     "name": "stdout",
     "output_type": "stream",
     "text": [
      "200 OK\n",
      "First 5 CFB Teams\n"
     ]
    },
    {
     "data": {
      "text/plain": [
       "[{'sTeamName': 'Abilene Christian',\n",
       "  'saltname': 'Abilene Christian',\n",
       "  'sDivision': 'fcs'},\n",
       " {'sTeamName': 'Adams State', 'saltname': 'Adams State', 'sDivision': 'ii'},\n",
       " {'sTeamName': 'Adrian', 'saltname': 'Adrian', 'sDivision': 'iii'},\n",
       " {'sTeamName': 'Air Force', 'saltname': 'Air Force', 'sDivision': 'fbs'},\n",
       " {'sTeamName': 'Akron', 'saltname': 'Akron', 'sDivision': 'fbs'}]"
      ]
     },
     "metadata": {},
     "output_type": "display_data"
    }
   ],
   "source": [
    "headers = {\n",
    "    'Authorization': api_key,\n",
    "    'User-Agent': postman_user_agent\n",
    "}\n",
    "\n",
    "sport = \"cfb\"\n",
    "teams_response = requests.get(base_gamesim_url + f'/gamesim/teams/{sport}', headers=headers)\n",
    "print(teams_response.status_code, teams_response.reason)\n",
    "print(\"First 5 CFB Teams\")\n",
    "display(teams_response.json()[0:5])"
   ]
  },
  {
   "cell_type": "markdown",
   "metadata": {},
   "source": [
    "### Seasons <a class=\"anchor\" id=\"seasons\"></a>"
   ]
  },
  {
   "cell_type": "code",
   "execution_count": 5,
   "metadata": {},
   "outputs": [
    {
     "name": "stdout",
     "output_type": "stream",
     "text": [
      "200 OK\n",
      "[{'BeginYear': 2012, 'EndYear': 2024}]\n"
     ]
    }
   ],
   "source": [
    "headers = {\n",
    "    'Authorization': api_key,\n",
    "    'User-Agent': postman_user_agent\n",
    "}\n",
    "\n",
    "team, sport = \"Illinois\", \"cfb\"\n",
    "\n",
    "seasons_response = requests.get(base_gamesim_url + f'/gamesim/seasons/{team}/{sport}', headers=headers)\n",
    "print(seasons_response.status_code, seasons_response.reason)\n",
    "print(seasons_response.json())"
   ]
  },
  {
   "cell_type": "markdown",
   "metadata": {},
   "source": [
    "### Simulate <a class=\"anchor\" id=\"simulate\"></a>"
   ]
  },
  {
   "cell_type": "code",
   "execution_count": 6,
   "metadata": {},
   "outputs": [
    {
     "name": "stdout",
     "output_type": "stream",
     "text": [
      "200 OK\n"
     ]
    },
    {
     "data": {
      "text/plain": [
       "{'hometeam': 'Illinois',\n",
       " 'homename': '',\n",
       " 'homeyear': 2024,\n",
       " 'awayteam': 'Wisconsin',\n",
       " 'awayname': '',\n",
       " 'awayyear': 2024,\n",
       " 'homescore': 27,\n",
       " 'awayscore': 13}"
      ]
     },
     "metadata": {},
     "output_type": "display_data"
    }
   ],
   "source": [
    "headers = {\n",
    "    'Authorization': api_key,\n",
    "    'User-Agent': postman_user_agent\n",
    "}\n",
    "\n",
    "request_data = {\n",
    "    \"hometeam\": \"Illinois\",\n",
    "    \"homeyear\": \"2024\",\n",
    "    \"awayteam\": \"Wisconsin\",\n",
    "    \"awayyear\": \"2024\",\n",
    "    \"includeStats\": True,\n",
    "    \"ncaaScheduleId\": 0,\n",
    "    \"nflScheduleId\": 0,\n",
    "    \"numberOfSimulations\": 0\n",
    "\n",
    "}\n",
    "\n",
    "sport = 'cfb'\n",
    "\n",
    "simulate_response = requests.post(base_gamesim_url + f'/gamesim/simulate/{sport}', headers=headers, json=request_data)\n",
    "print(simulate_response.status_code, simulate_response.reason)\n",
    "display(simulate_response.json()['simulation'])"
   ]
  },
  {
   "cell_type": "markdown",
   "metadata": {},
   "source": [
    "Hope the model is right on this one"
   ]
  },
  {
   "cell_type": "markdown",
   "metadata": {},
   "source": [
    "<br/><br/>"
   ]
  },
  {
   "cell_type": "markdown",
   "metadata": {},
   "source": [
    "### Predictions <a class=\"anchor\" id=\"predictions\"></a>"
   ]
  },
  {
   "cell_type": "code",
   "execution_count": 7,
   "metadata": {},
   "outputs": [
    {
     "name": "stdout",
     "output_type": "stream",
     "text": [
      "200 OK\n",
      "First simulation returned:\n"
     ]
    },
    {
     "data": {
      "text/plain": [
       "{'GameDate': '2023-10-21T00:00:00',\n",
       " 'AwayName': 'Abilene Christian',\n",
       " 'HomeName': 'SFA',\n",
       " 'AwayFinalScore': None,\n",
       " 'HomeFinalScore': None,\n",
       " 'AwayPredictedScore': 19.40816326530612,\n",
       " 'HomePredictedScore': 18.39591836734693,\n",
       " 'SimulationCount': 245,\n",
       " 'GameStatus': 'Incomplete',\n",
       " 'HomeDivision': 'fcs',\n",
       " 'AwayDivision': 'fcs'}"
      ]
     },
     "metadata": {},
     "output_type": "display_data"
    }
   ],
   "source": [
    "headers = {\n",
    "    'Authorization': api_key,\n",
    "    'User-Agent': postman_user_agent\n",
    "}\n",
    "\n",
    "sport = 'cfb'\n",
    "dtgame = \"2023-10-21%2000%3A00%3A00\"\n",
    "\n",
    "prediction_response = requests.get(base_gamesim_url + f'/gamesim/predictions/{sport}/{dtgame}', headers=headers)\n",
    "print(prediction_response.status_code, prediction_response.reason)\n",
    "print(\"First simulation returned:\")\n",
    "display(prediction_response.json()[0])"
   ]
  }
 ],
 "metadata": {
  "kernelspec": {
   "display_name": "smallprojectsenv",
   "language": "python",
   "name": "python3"
  },
  "language_info": {
   "codemirror_mode": {
    "name": "ipython",
    "version": 3
   },
   "file_extension": ".py",
   "mimetype": "text/x-python",
   "name": "python",
   "nbconvert_exporter": "python",
   "pygments_lexer": "ipython3",
   "version": "3.9.16"
  }
 },
 "nbformat": 4,
 "nbformat_minor": 2
}
